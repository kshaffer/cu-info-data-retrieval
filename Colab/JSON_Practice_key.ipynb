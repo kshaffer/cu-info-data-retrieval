{
 "cells": [
  {
   "cell_type": "markdown",
   "metadata": {},
   "source": "# JSON Practice: Mastodon Public Timeline\n\nWork in driver/navigator pairs with a single laptop. Talk through each idea before you code so both partners understand the plan.",
   "id": "6432545ffcadcf65"
  },
  {
   "cell_type": "markdown",
   "metadata": {},
   "source": "## 1. Setup\n\nImport the core libraries we will need for HTTP requests, JSON inspection, and quick analyses.",
   "id": "a88dc532d0a7b81b"
  },
  {
   "cell_type": "code",
   "metadata": {},
   "source": [
    "import requests\n",
    "from pprint import pprint\n",
    "import re"
   ],
   "id": "9da0ad8883264076",
   "outputs": [],
   "execution_count": null
  },
  {
   "cell_type": "markdown",
   "metadata": {},
   "source": "## 2. Fetch the timeline data\n\nUse the provided Mastodon public timeline endpoint. Confirm we received an HTTP 200 response and note the content type.",
   "id": "eca0ece282cbc2eb"
  },
  {
   "cell_type": "code",
   "metadata": {},
   "source": "SOURCE_URL = \"https://hci.social/api/v1/timelines/public?limit=20\"\n\nresponse = requests.get(SOURCE_URL, timeout=10)\nresponse.raise_for_status()\n\nprint(f\"Status code: {response.status_code}\")\nprint(f\"Content type: {response.headers.get('content-type')}\")",
   "id": "fcbdeb85ac5be599",
   "outputs": [],
   "execution_count": null
  },
  {
   "cell_type": "markdown",
   "metadata": {},
   "source": "## 3. Load the JSON payload\n\nConvert the HTTP response into Python objects. Verify we received a list of status dictionaries.",
   "id": "1e36796a3ad04298"
  },
  {
   "cell_type": "code",
   "metadata": {},
   "source": "posts = response.json()\n\nprint(f\"Number of posts retrieved: {len(posts)}\")\nprint(f\"Type of top-level object: {type(posts).__name__}\")\nif posts:\n    print(f\"Type of an individual post: {type(posts[0]).__name__}\")",
   "id": "1ee08524746a3e6e",
   "outputs": [],
   "execution_count": null
  },
  {
   "cell_type": "markdown",
   "metadata": {},
   "source": "## 4. Explore the raw structure\n\nStart by looking at the keys provided for each post and pretty-printing one representative object.",
   "id": "56a618db25a09db8"
  },
  {
   "cell_type": "code",
   "metadata": {},
   "source": [
    "if posts:\n",
    "    pprint(posts[0])"
   ],
   "id": "bb357c28a9fb7253",
   "outputs": [],
   "execution_count": null
  },
  {
   "metadata": {},
   "cell_type": "code",
   "source": [
    "if posts:\n",
    "    sample_post = posts[0]\n",
    "    print(sorted(sample_post.keys()))\n",
    "else:\n",
    "    print('No posts returned from the API.')"
   ],
   "id": "f73be1ce9d9fcfb8",
   "outputs": [],
   "execution_count": null
  },
  {
   "cell_type": "markdown",
   "metadata": {},
   "source": "### Identify nested collections\n\nFind the fields that contain lists or dictionaries so we know where to drill deeper (media attachments, tags, mentions, etc.).",
   "id": "803fa36322d10e89"
  },
  {
   "cell_type": "code",
   "metadata": {},
   "source": "if posts:\n    list_like_fields = sorted({key for key, value in posts[0].items() if isinstance(value, list)})\n    dict_like_fields = sorted({key for key, value in posts[0].items() if isinstance(value, dict)})\n    print(\"Fields containing lists:\", list_like_fields)\n    print(\"Fields containing nested dictionaries:\", dict_like_fields)",
   "id": "b64af7f93598008f",
   "outputs": [],
   "execution_count": null
  },
  {
   "cell_type": "markdown",
   "metadata": {},
   "source": "## 5. Extract plain-text post bodies\n\nConvert the HTML content field to readable text so we can inspect language patterns.",
   "id": "cdf68a0e07619ecd"
  },
  {
   "metadata": {},
   "cell_type": "markdown",
   "source": "First, look at the post object printed above and identify the field that contains the post content. (You can confirm by looking at the Mastodon [documentation](https://docs.joinmastodon.org/entities/Status/).) Typically for social platforms, it is called \"content\" or \"text\" or \"status\", and sometimes is embedded in a sub-object. Then for a sample post (`posts[0]`), extract and display that field.",
   "id": "2c0eb3d6d47a80b6"
  },
  {
   "metadata": {},
   "cell_type": "code",
   "source": "posts[0]['content'] # or posts[0].get('content')",
   "id": "92d378d10f7b74bb",
   "outputs": [],
   "execution_count": null
  },
  {
   "metadata": {},
   "cell_type": "markdown",
   "source": "The post content is displayed as HTML. We won't worry about that for now, but note it. Eventually, we will want plain text for our analysis.",
   "id": "fae845adc0f22249"
  },
  {
   "metadata": {},
   "cell_type": "markdown",
   "source": "Now make a loop that extracts the post content from every post in the list. Store these in a new list called `post_texts`. Print the number of posts collected and display the first post as a sample.",
   "id": "a59a841f5b46d8e7"
  },
  {
   "metadata": {},
   "cell_type": "code",
   "source": [
    "post_texts = []\n",
    "\n",
    "for post in posts:\n",
    "    post_texts.append(post.get('content'))\n",
    "\n",
    "print(f'Collected {len(post_texts)} posts.')\n",
    "print('Sample post content:', post_texts[0])"
   ],
   "id": "fa4e91e61270563",
   "outputs": [],
   "execution_count": null
  },
  {
   "cell_type": "markdown",
   "metadata": {},
   "source": "## 6. Collect media URLs\n\nInvestigate how media attachments are stored so you can gather the direct URLs for later analysis.",
   "id": "b3cc8ce0513d8fa5"
  },
  {
   "cell_type": "markdown",
   "metadata": {},
   "source": "Revisit the sample post printed above and locate the field that contains attachments. The Mastodon [status schema](https://docs.joinmastodon.org/entities/Status/#media_attachments) names this field `media_attachments`. Pull that field from the first post so you can inspect its structure.",
   "id": "d2aeee597e8eacb1"
  },
  {
   "cell_type": "code",
   "metadata": {},
   "source": [
    "post = posts[0] if posts else {}\n",
    "attachments = post['media_attachments']\n",
    "attachments"
   ],
   "id": "5546f023c63e9a22",
   "outputs": [],
   "execution_count": null
  },
  {
   "cell_type": "markdown",
   "metadata": {},
   "source": "If the first post has no attachments, iterate through the feed until you find a post whose `media_attachments` list is not empty. Keep track of the index you used so you can explain your process.",
   "id": "751804d191205b9b"
  },
  {
   "cell_type": "code",
   "metadata": {},
   "source": [
    "first_with_media = None\n",
    "for i, post in enumerate(posts):\n",
    "    if post.get('media_attachments'):\n",
    "        first_with_media = (i, post)\n",
    "        break\n",
    "\n",
    "if first_with_media:\n",
    "    index, post = first_with_media\n",
    "    print(f'Found media attachments in post index {index}')\n",
    "    print(post.get('media_attachments'))\n",
    "else:\n",
    "    print('No media attachments found in this dataset.')"
   ],
   "id": "8568ea20ac861d79",
   "outputs": [],
   "execution_count": null
  },
  {
   "cell_type": "markdown",
   "metadata": {},
   "source": "Notice that `media_attachments` is a list of dictionaries. Identify the key that points to the direct media URL (typically `url` or `preview_url`).",
   "id": "88b6c3e60b27dfb9"
  },
  {
   "cell_type": "markdown",
   "metadata": {},
   "source": "Now loop through every post, collect the media URLs into a list called `media_urls`, and report how many you found. Also print an example URL so partners can double-check the result.",
   "id": "581e040d847a32a1"
  },
  {
   "cell_type": "code",
   "metadata": {},
   "source": "media_urls = []\nfor post in posts:\n    for media in post.get('media_attachments', []):\n        url = media.get('url')\n        if url:\n            media_urls.append(url)\n\nprint(f'Collected {len(media_urls)} media URLs')\nif media_urls:\n    print('Sample media URL:', media_urls[0])",
   "id": "682fd6bf8ade96cf",
   "outputs": [],
   "execution_count": null
  },
  {
   "cell_type": "markdown",
   "metadata": {},
   "source": "## 7. Gather hashtags\n\nExamine how hashtags are stored so you can assemble a list for frequency counts and topic exploration. (This will be similar to how you extracted media URLs.)",
   "id": "b67f7249df3147e7"
  },
  {
   "cell_type": "markdown",
   "metadata": {},
   "source": "Check the sample post above to locate the field that stores hashtags. In the Mastodon [status schema](https://docs.joinmastodon.org/entities/Status/#tags), this array is called `tags`. Retrieve it from the first post to confirm the structure.",
   "id": "bddda7be8aaab95e"
  },
  {
   "cell_type": "code",
   "metadata": {},
   "source": "post = posts[0] if posts else {}\ntags = post.get('tags', [])\ntags",
   "id": "aea1c9bee3478298",
   "outputs": [],
   "execution_count": null
  },
  {
   "cell_type": "markdown",
   "metadata": {},
   "source": "If the first post has no hashtags, scan forward until you find one that does. Document which index you used so your partner can reproduce the step.",
   "id": "69832d620f04e3bf"
  },
  {
   "cell_type": "code",
   "metadata": {},
   "source": "first_with_tags = None\nfor i, post in enumerate(posts):\n    if post.get('tags'):\n        first_with_tags = (i, post)\n        break\n\nif first_with_tags:\n    index, post = first_with_tags\n    print(f'Found hashtags in post index {index}')\n    post.get('tags')\nelse:\n    print('No hashtags found in this dataset.')",
   "id": "3ed1a5e8d1087702",
   "outputs": [],
   "execution_count": null
  },
  {
   "cell_type": "markdown",
   "metadata": {},
   "source": "Each tag entry is a dictionary. Identify the key that carries the hashtag text (usually `name`).",
   "id": "bf3f974d3c2e5749"
  },
  {
   "cell_type": "markdown",
   "metadata": {},
   "source": "Loop through all posts, extract the hashtag text into a list called `hashtags`, and report summary counts. Lowercase each hashtag so variations in capitalization are merged.",
   "id": "b60713b79f293610"
  },
  {
   "cell_type": "code",
   "metadata": {},
   "source": "hashtags = []\nfor post in posts:\n    for tag in post.get('tags', []):\n        name = tag.get('name')\n        if name:\n            hashtags.append(name.lower())\n\nprint(f'Collected {len(hashtags)} hashtags')\nif hashtags:\n    print('Unique hashtags observed:', len(set(hashtags)))\n    print('Sample hashtags:', sorted(set(hashtags))[:5])",
   "id": "b238e0d2c93cf331",
   "outputs": [],
   "execution_count": null
  },
  {
   "cell_type": "markdown",
   "metadata": {},
   "source": [
    "## 8. Extract links from post content\n",
    "\n",
    "Locate outbound URLs embedded in the HTML `content` field so you can analyze where posts send readers. NOTE: There are more sophisticated and reliable ways to extract links from HTML, but for this exercise, we will simply look for the telltale `href` property in the plain text."
   ],
   "id": "9be47fbf190d703e"
  },
  {
   "cell_type": "markdown",
   "metadata": {},
   "source": "Inspect the `content` field on a sample post. Mastodon stores status bodies as HTML strings, so links appear inside `<a>` tags with `href` attributes.",
   "id": "ada68af073beba8f"
  },
  {
   "cell_type": "code",
   "metadata": {},
   "source": "post = posts[0] if posts else {}\ncontent_html = post.get('content') or ''\ncontent_html",
   "id": "6afd4593596ffd68",
   "outputs": [],
   "execution_count": null
  },
  {
   "cell_type": "markdown",
   "metadata": {},
   "source": "If this sample does not contain a link, scan forward until you find a post whose HTML includes an `<a>` tag. Share the index you picked so others can double-check.",
   "id": "93f4173ddc1275ec"
  },
  {
   "cell_type": "code",
   "metadata": {},
   "source": "first_with_link = None\nfor i, post in enumerate(posts):\n    html = post.get('content') or ''\n    if 'href=\\\"' in html:\n        first_with_link = (i, post)\n        break\n\nif first_with_link:\n    index, post = first_with_link\n    print(f'Found links in post index {index}')\n    (post.get('content') or '')\nelse:\n    print('No links found in this dataset.')",
   "id": "e8f150e27da241df",
   "outputs": [],
   "execution_count": null
  },
  {
   "cell_type": "markdown",
   "metadata": {},
   "source": "Notice how each anchor tag uses `href=\"...\"`. Use a regular expression to capture those URL values for any post.",
   "id": "d90bbe84eca967b1"
  },
  {
   "cell_type": "code",
   "metadata": {},
   "source": "href_pattern = re.compile(r'href=\\\"(.*?)\\\"')",
   "id": "8c6efa75c47ddb8f",
   "outputs": [],
   "execution_count": null
  },
  {
   "cell_type": "markdown",
   "metadata": {},
   "source": "Loop through every post, apply the pattern to the HTML content, store the results in a list called `link_urls`, and print a quick summary (count plus an example link).",
   "id": "b0e0069abd50c093"
  },
  {
   "cell_type": "code",
   "metadata": {},
   "source": "link_urls = []\nfor post in posts:\n    html = post.get('content') or ''\n    link_urls.extend(href_pattern.findall(html))\n\nprint(f'Collected {len(link_urls)} links from content')\nif link_urls:\n    print('Sample link:', link_urls[0])",
   "id": "2f0fdecaa6118009",
   "outputs": [],
   "execution_count": null
  },
  {
   "cell_type": "markdown",
   "metadata": {},
   "source": "## 9. Record mentioned accounts\n\nIdentify which accounts are referenced inside each post so you can explore interaction patterns.",
   "id": "fae339f50c687316"
  },
  {
   "cell_type": "markdown",
   "metadata": {},
   "source": "Inspect a sample post to find the field that lists mentions. In the Mastodon schema, this lives in the `mentions` array.",
   "id": "5debde8fa1897aca"
  },
  {
   "cell_type": "code",
   "metadata": {},
   "source": "post = posts[0] if posts else {}\nmentions_field = post.get('mentions', [])\nmentions_field",
   "id": "4e4d7f49dfbafa85",
   "outputs": [],
   "execution_count": null
  },
  {
   "cell_type": "markdown",
   "metadata": {},
   "source": "If the first post has no mentions, scan forward until you find one that does. Write down the index you chose so partners keep track.",
   "id": "9eec13f0219fa4f4"
  },
  {
   "cell_type": "code",
   "metadata": {},
   "source": "first_with_mentions = None\nfor i, post in enumerate(posts):\n    if post.get('mentions'):\n        first_with_mentions = (i, post)\n        break\n\nif first_with_mentions:\n    index, post = first_with_mentions\n    print(f'Found mentions in post index {index}')\n    post.get('mentions')\nelse:\n    print('No mentions found in this dataset.')",
   "id": "9b72e598f434fbd3",
   "outputs": [],
   "execution_count": null
  },
  {
   "cell_type": "markdown",
   "metadata": {},
   "source": "Each mention entry is a dictionary. Identify the property that stores the account identifier you care about (e.g., `acct`).",
   "id": "155758f39d811e80"
  },
  {
   "cell_type": "markdown",
   "metadata": {},
   "source": "Loop through the feed, capture the mentioned account names (or IDs) into a list called `mentions`, and summarize what you found.",
   "id": "618cb55b2ff8fd2e"
  },
  {
   "cell_type": "code",
   "metadata": {},
   "source": "mentions = []\nfor post in posts:\n    for mention in post.get('mentions', []):\n        acct = mention.get('acct')\n        if acct:\n            mentions.append(acct)\n\nprint(f'Collected {len(mentions)} mentions')\nif mentions:\n    print('Unique accounts mentioned:', len(set(mentions)))\n    print('Sample mentions:', sorted(set(mentions))[:5])",
   "id": "bff805d5da10777",
   "outputs": [],
   "execution_count": null
  },
  {
   "cell_type": "markdown",
   "metadata": {},
   "source": "## 10. Gather post authors\n\nIdentify how author information is stored so you can summarize who appears in the feed.",
   "id": "24638bf8498b3205"
  },
  {
   "cell_type": "markdown",
   "metadata": {},
   "source": "Inspect the first post for its `account` field. Mastodon stores author metadata there, including the handle (`acct`). Confirm the structure using the Mastodon [status schema](https://docs.joinmastodon.org/entities/Status/#account).",
   "id": "860f386f7b1d35f8"
  },
  {
   "cell_type": "code",
   "metadata": {},
   "source": [
    "post = posts[0]\n",
    "author_info = post.get('account', {})\n",
    "author_info"
   ],
   "id": "1180351ee5da3e65",
   "outputs": [],
   "execution_count": null
  },
  {
   "cell_type": "markdown",
   "metadata": {},
   "source": "If that post lacks author details, scan forward until you find a post whose `account` data is populated. Record the index you used so your partner can reproduce the step.",
   "id": "d4aee1509882bd1a"
  },
  {
   "cell_type": "code",
   "metadata": {},
   "source": "first_with_account = None\nfor i, post in enumerate(posts):\n    account = post.get('account')\n    if account:\n        first_with_account = (i, post)\n        break\n\nif first_with_account:\n    index, post = first_with_account\n    print(f'Found account data in post index {index}')\n    post.get('account')\nelse:\n    print('No account data found in this dataset.')",
   "id": "2e3241b76639ce34",
   "outputs": [],
   "execution_count": null
  },
  {
   "cell_type": "markdown",
   "metadata": {},
   "source": "Notice the keys available inside each account dictionary (e.g., `acct`, `display_name`). Decide which identifier you want to reuse for filtering later.",
   "id": "a616690c70d3bb88"
  },
  {
   "cell_type": "markdown",
   "metadata": {},
   "source": "Loop through the feed, capture each post author handle into a list called `authors`, and also build a sorted list of unique authors for quick reference.",
   "id": "8b4c5244cba2738d"
  },
  {
   "cell_type": "code",
   "metadata": {},
   "source": "authors = []\nfor post in posts:\n    account = post.get('account') or {}\n    acct = account.get('acct')\n    if acct:\n        authors.append(acct)\n\nunique_authors = sorted(set(authors))\n\nprint(f'Collected {len(authors)} author references')\nif authors:\n    print('Unique authors observed:', len(unique_authors))\n    print('Sample authors:', unique_authors[:5])",
   "id": "f46b3e5c04fb1e2d",
   "outputs": [],
   "execution_count": null
  },
  {
   "cell_type": "markdown",
   "metadata": {},
   "source": "## 11. Search posts by account\n\nUse the author list you just built to focus on posts from a specific account.",
   "id": "aa0626fc447165e7"
  },
  {
   "cell_type": "markdown",
   "metadata": {},
   "source": "Review the unique author handles below and choose one to investigate.",
   "id": "b418a9b4ed03d0fa"
  },
  {
   "cell_type": "code",
   "metadata": {},
   "source": "print('Sample authors:', unique_authors[:5])",
   "id": "e17c9eecf816e008",
   "outputs": [],
   "execution_count": null
  },
  {
   "cell_type": "markdown",
   "metadata": {},
   "source": "Set `target_account` to the handle you want to analyze. Update the default if you have a different choice.",
   "id": "1dd04206e0a34a24"
  },
  {
   "cell_type": "code",
   "metadata": {},
   "source": "target_account = unique_authors[0] if unique_authors else ''  # <-- edit this after reviewing the list\nprint(f\"Searching for account: {target_account or '[edit this]'}\")",
   "id": "6c5bb35164c0d5",
   "outputs": [],
   "execution_count": null
  },
  {
   "cell_type": "markdown",
   "metadata": {},
   "source": "Filter the posts to only those authored by `target_account`. Report how many matches you found and preview a representative example.",
   "id": "1c46ba7f2cf15fd6"
  },
  {
   "cell_type": "code",
   "metadata": {},
   "source": [
    "posts_from_account = []\n",
    "\n",
    "for post in posts:\n",
    "    if post['account']['acct'] == target_account:\n",
    "        posts_from_account.append(post)\n",
    "\n",
    "print(f'Matches found: {len(posts_from_account)}')\n",
    "if posts_from_account:\n",
    "    print('First match ID:', posts_from_account[0]['id'])\n",
    "    print('Sample match content:', posts_from_account[0]['content'])"
   ],
   "id": "9f3245606288d331",
   "outputs": [],
   "execution_count": null
  },
  {
   "cell_type": "markdown",
   "metadata": {},
   "source": "## 12. Search posts by keyword\n\nScan the post bodies for a case-insensitive keyword to understand how often a topic appears.",
   "id": "3263dd3e75f491f6"
  },
  {
   "cell_type": "markdown",
   "metadata": {},
   "source": "Review a few entries in `post_texts` to pick a word or phrase you care about. Remember that we already stored the HTML content as plain text above.",
   "id": "1e7f4161bca613a7"
  },
  {
   "cell_type": "code",
   "metadata": {},
   "source": [
    "print('Sample post texts:')\n",
    "for text in post_texts[:3]:\n",
    "    print('-', text)"
   ],
   "id": "f7c183d95960aa14",
   "outputs": [],
   "execution_count": null
  },
  {
   "cell_type": "markdown",
   "metadata": {},
   "source": "Choose a keyword to search for. Make the comparison case-insensitive so capitalization differences do not matter.",
   "id": "e36633edb937f3e0"
  },
  {
   "cell_type": "code",
   "metadata": {},
   "source": [
    "target_keyword = 'the'  # <-- edit this to your chosen keyword\n",
    "print(f\"Searching for keyword: {target_keyword}\")"
   ],
   "id": "2d1707bc59a1b3ad",
   "outputs": [],
   "execution_count": null
  },
  {
   "cell_type": "markdown",
   "metadata": {},
   "source": "Loop through the plain-text bodies and collect posts where the keyword appears. Compare using lowercase copies of the text.",
   "id": "8b98158b785e778a"
  },
  {
   "cell_type": "code",
   "metadata": {},
   "source": [
    "matching_posts = []\n",
    "\n",
    "for post in posts:\n",
    "    if target_keyword and target_keyword.lower() in post['content'].lower():\n",
    "        matching_posts.append(post['content'])\n",
    "\n",
    "print(f'Posts containing \"{target_keyword}\": {len(matching_posts)}')\n",
    "if matching_posts:\n",
    "    preview = matching_posts[0]\n",
    "    print('Sample match:', preview)"
   ],
   "id": "8487ec5c3d617629",
   "outputs": [],
   "execution_count": null
  },
  {
   "cell_type": "markdown",
   "metadata": {},
   "source": "## 13. Search posts by hashtag\n\nUse the hashtag list you built to focus on posts that mention a particular topic.",
   "id": "86792e048df11629"
  },
  {
   "cell_type": "markdown",
   "metadata": {},
   "source": "Review the unique hashtag values to decide which topic to explore.",
   "id": "7b944c9970097a61"
  },
  {
   "cell_type": "code",
   "metadata": {},
   "source": [
    "unique_hashtags = sorted(set(hashtags))\n",
    "print(\"Unique hashtags collected:\", len(unique_hashtags))\n",
    "print(\"Sample hashtags:\", unique_hashtags[:10])"
   ],
   "id": "639aa37c73885c8c",
   "outputs": [],
   "execution_count": null
  },
  {
   "cell_type": "markdown",
   "metadata": {},
   "source": "Set `target_hashtag` to the tag you want to analyze. Update the default after you inspect the list.",
   "id": "79abda9dc5fe3d74"
  },
  {
   "cell_type": "code",
   "metadata": {},
   "source": "target_hashtag = unique_hashtags[0] if unique_hashtags else ''  # <-- edit this after reviewing the list\nprint(f\"Searching for hashtag: #{target_hashtag or '[edit this]'}\")",
   "id": "d50a301c2815909d",
   "outputs": [],
   "execution_count": null
  },
  {
   "cell_type": "markdown",
   "metadata": {},
   "source": "Loop through the posts and capture those whose `tags` array contains the chosen hashtag. Report how many matches you found and preview a snippet of one.",
   "id": "b3557edad1699ef8"
  },
  {
   "cell_type": "code",
   "metadata": {},
   "source": [
    "matching_posts = []\n",
    "\n",
    "for post in posts:\n",
    "    tag_names = [tag['name'].lower() for tag in post['tags']]\n",
    "    if target_hashtag in tag_names:\n",
    "        matching_posts.append(post['content'])\n",
    "\n",
    "print(f'Posts containing #{target_hashtag}: {len(matching_posts)}')\n",
    "if matching_posts:\n",
    "    preview = matching_posts[0]\n",
    "    print('Sample match:', preview)\n"
   ],
   "id": "ab34507d39992c74",
   "outputs": [],
   "execution_count": null
  },
  {
   "cell_type": "markdown",
   "metadata": {},
   "source": "---\n\nDiscuss with your partner: What additional questions could you ask of this feed? What transformations would make it easier to pivot to MongoDB or another document store?",
   "id": "df4ab4b47c91dcfb"
  }
 ],
 "metadata": {
  "kernelspec": {
   "display_name": "Python 3",
   "language": "python",
   "name": "python3"
  },
  "language_info": {
   "name": "python"
  }
 },
 "nbformat": 4,
 "nbformat_minor": 5
}
