{
 "cells": [
  {
   "metadata": {},
   "cell_type": "markdown",
   "source": [
    "# MongoDB/Pymongo Query Basics: Mastodon Public Timeline\n",
    "\n",
    "Work in driver/navigator pairs with a single laptop. Talk through each idea before you code so both partners understand the plan."
   ],
   "id": "851a498321e4f196"
  },
  {
   "metadata": {},
   "cell_type": "markdown",
   "source": [
    "## 1. Setup\n",
    "\n",
    "Import the core libraries we will need for HTTP requests, JSON inspection, and quick analyses."
   ],
   "id": "820d866c36a69608"
  },
  {
   "metadata": {},
   "cell_type": "code",
   "source": [
    "import requests\n",
    "import re\n",
    "from pymongo import MongoClient\n",
    "from pprint import pprint\n",
    "import pandas as pd\n",
    "from bs4 import BeautifulSoup\n",
    "from IPython.display import Image, display"
   ],
   "id": "8a485c9f23bdf00d",
   "outputs": [],
   "execution_count": null
  },
  {
   "metadata": {},
   "cell_type": "markdown",
   "source": [
    "## 2. Fetch the timeline data\n",
    "\n",
    "Use the provided Mastodon public timeline endpoint. Confirm we received an HTTP 200 response and note the content type."
   ],
   "id": "4a8e4148df5450d0"
  },
  {
   "metadata": {},
   "cell_type": "code",
   "source": [
    "SOURCE_URL = \"https://hci.social/api/v1/timelines/public?limit=40\"\n",
    "\n",
    "response = requests.get(SOURCE_URL, timeout=10)\n",
    "response.raise_for_status()\n",
    "\n",
    "print(f\"Status code: {response.status_code}\")\n",
    "print(f\"Content type: {response.headers.get('content-type')}\")"
   ],
   "id": "2193fc5409d9c477",
   "outputs": [],
   "execution_count": null
  },
  {
   "metadata": {},
   "cell_type": "markdown",
   "source": [
    "## 3. Load the JSON payload\n",
    "\n",
    "Convert the HTTP response into Python objects. Verify we received a list of status dictionaries."
   ],
   "id": "3725bc710bf23696"
  },
  {
   "metadata": {},
   "cell_type": "code",
   "source": [
    "posts = response.json()\n",
    "\n",
    "print(f\"Number of posts retrieved: {len(posts)}\")\n",
    "print(f\"Type of top-level object: {type(posts).__name__}\")\n",
    "if posts:\n",
    "    print(f\"Type of an individual post: {type(posts[0]).__name__}\")"
   ],
   "id": "27d3fd6a310318ee",
   "outputs": [],
   "execution_count": null
  },
  {
   "metadata": {},
   "cell_type": "markdown",
   "source": [
    "## 4. Explore the raw structure\n",
    "\n",
    "Start by looking at the keys provided for each post and pretty-printing one representative object."
   ],
   "id": "1a95c83dcbd8e2a8"
  },
  {
   "metadata": {},
   "cell_type": "code",
   "source": [
    "if posts:\n",
    "    pprint(posts[0])"
   ],
   "id": "80c9fc3a8db7da5d",
   "outputs": [],
   "execution_count": null
  },
  {
   "metadata": {},
   "cell_type": "code",
   "source": [
    "if posts:\n",
    "    sample_post = posts[0]\n",
    "    print(sorted(sample_post.keys()))\n",
    "else:\n",
    "    print('No posts returned from the API.')"
   ],
   "id": "c27704a42369aeec",
   "outputs": [],
   "execution_count": null
  },
  {
   "metadata": {},
   "cell_type": "markdown",
   "source": [
    "# 5. Load posts into a local MongoDB database\n",
    "Create a new database and collection, then insert all the posts we retrieved from the Mastodon API."
   ],
   "id": "ff838eccefc3c15f"
  },
  {
   "metadata": {},
   "cell_type": "code",
   "source": [
    "# create new database\n",
    "client = MongoClient()\n",
    "db = client.mastodon_test\n",
    "db"
   ],
   "id": "8fe0a50e6fe6c76b",
   "outputs": [],
   "execution_count": null
  },
  {
   "metadata": {},
   "cell_type": "code",
   "source": [
    "# create new collection in mastodon_test\n",
    "coll = ...\n",
    "coll"
   ],
   "id": "c0eb5451e080f91d",
   "outputs": [],
   "execution_count": null
  },
  {
   "metadata": {},
   "cell_type": "code",
   "source": [
    "# insert posts into collection\n",
    "coll..."
   ],
   "id": "87c938448ba3c9a6",
   "outputs": [],
   "execution_count": null
  },
  {
   "metadata": {},
   "cell_type": "code",
   "source": [
    "# confirm number of documents inserted\n",
    "# ..."
   ],
   "id": "c91d34762c366323",
   "outputs": [],
   "execution_count": null
  },
  {
   "metadata": {},
   "cell_type": "code",
   "source": [
    "# show collections in mastodon_test\n",
    "..."
   ],
   "id": "2ed6d5e9e7d9085b",
   "outputs": [],
   "execution_count": null
  },
  {
   "metadata": {},
   "cell_type": "code",
   "source": [
    "# show a sample post from the collection\n",
    "sample = ...\n",
    "pprint(sample)"
   ],
   "id": "4c24eb70e6320567",
   "outputs": [],
   "execution_count": null
  },
  {
   "metadata": {},
   "cell_type": "markdown",
   "source": "# 6. Basic queries",
   "id": "20c4f1c736fa7764"
  },
  {
   "metadata": {},
   "cell_type": "code",
   "source": [
    "# List all the distinct account usernames in the collection\n",
    "usernames = ...\n",
    "\n",
    "print(f\"Unique usernames: {usernames}\")"
   ],
   "id": "821bab84956ed701",
   "outputs": [],
   "execution_count": null
  },
  {
   "metadata": {},
   "cell_type": "code",
   "source": [
    "# Return all of the posts from one of those users\n",
    "username_to_query = usernames[0]\n",
    "\n",
    "user_posts = ...\n",
    "\n",
    "print(f\"Posts from user '{username_to_query}':\")\n",
    "\n",
    "for post in user_posts:\n",
    "    pprint(post)"
   ],
   "id": "1298968f5138cc62",
   "outputs": [],
   "execution_count": null
  },
  {
   "metadata": {},
   "cell_type": "code",
   "source": [
    "# Print just the content of those posts\n",
    "user_posts = ...\n",
    "\n",
    "print(f\"Contents of posts from user '{username_to_query}':\\n\")\n",
    "\n",
    "for post in user_posts:\n",
    "    print(... + '\\n')"
   ],
   "id": "bb0f8fe655aaa353",
   "outputs": [],
   "execution_count": null
  },
  {
   "metadata": {},
   "cell_type": "code",
   "source": [
    "# Count the number of posts per account (acct)\n",
    "# For each username, get their post count, then append the acct and post count to a list of lists, convert to a dataframe, sort in descending order (to show the users with the most posts), and display it\n",
    "\n",
    "posts_per_user = []\n",
    "\n",
    "for username in usernames:\n",
    "    post_count = ...\n",
    "    posts_per_user.append([username, post_count])\n",
    "\n",
    "df = pd.DataFrame(posts_per_user, columns=['username', 'post_count'])\n",
    "df = df.sort_values(by='post_count', ascending=False).reset_index(drop=True)\n",
    "df"
   ],
   "id": "711d2878bbca8f80",
   "outputs": [],
   "execution_count": null
  },
  {
   "metadata": {},
   "cell_type": "code",
   "source": [
    "# List all of the hashtags used in the posts\n",
    "all_hashtags = ...\n",
    "\n",
    "print(f\"All hashtags used in posts: {all_hashtags}\")"
   ],
   "id": "7a2fb47d4a8f0424",
   "outputs": [],
   "execution_count": null
  },
  {
   "metadata": {},
   "cell_type": "code",
   "source": [
    "# Count how many times each hashtag was used across all posts and list in descending order\n",
    "# (Use the one-by-one method used above — we will use a more advanced method later)\n",
    "\n",
    "hashtag_counts = []\n",
    "\n",
    "for hashtag in all_hashtags:\n",
    "    count = ...\n",
    "    hashtag_counts.append([hashtag, count])\n",
    "\n",
    "df_hashtags = pd.DataFrame(hashtag_counts, columns=['hashtag', 'count'])\n",
    "df_hashtags = df_hashtags.sort_values(by='count', ascending=False).reset_index(drop=True)\n",
    "df_hashtags"
   ],
   "id": "844fd23d8e958ecd",
   "outputs": [],
   "execution_count": null
  },
  {
   "metadata": {},
   "cell_type": "code",
   "source": [
    "# Now take one of the most popular hashtags and return all posts that used it\n",
    "# Return the post content only\n",
    "\n",
    "popular_hashtag = df_hashtags.iloc[0]['hashtag']\n",
    "posts_with_popular_hashtag = ...\n",
    "\n",
    "print(f\"Posts with hashtag '{popular_hashtag}':\\n\")\n",
    "\n",
    "for post in posts_with_popular_hashtag:\n",
    "    print(... + '\\n')"
   ],
   "id": "7a49399edb184bb6",
   "outputs": [],
   "execution_count": null
  },
  {
   "metadata": {},
   "cell_type": "code",
   "source": [
    "# Now use BeautifulSoup to strip the HTML tags from those posts and print just the plain text content\n",
    "posts_with_popular_hashtag = ...\n",
    "\n",
    "print(f\"Plain text contents of posts with hashtag '{popular_hashtag}':\\n\")\n",
    "\n",
    "for post in posts_with_popular_hashtag:\n",
    "    soup = BeautifulSoup(post['content'], 'html.parser')\n",
    "    plain_text = soup.get_text()\n",
    "    print(plain_text + '\\n')"
   ],
   "id": "8023300633fa1b61",
   "outputs": [],
   "execution_count": null
  },
  {
   "metadata": {},
   "cell_type": "code",
   "source": [
    "# Find one post that includes an image and display it\n",
    "post_with_image = coll.find_one({'media_attachments': {'$ne': []}})\n",
    "\n",
    "if post_with_image:\n",
    "    image_url = ...\n",
    "    display(Image(url=image_url))\n",
    "else:\n",
    "    print(\"No post with an image found.\")"
   ],
   "id": "b56f60f4c1f5a353",
   "outputs": [],
   "execution_count": null
  },
  {
   "metadata": {},
   "cell_type": "markdown",
   "source": "# 7. MOAR DATA",
   "id": "1b8cbb3540df8a42"
  },
  {
   "metadata": {},
   "cell_type": "code",
   "source": [
    "# Download 40 posts each from two other servers and insert them into the same collection\n",
    "additional_servers = [\"https://kind.social\", \"https://infosec.exchange\"]\n",
    "\n",
    "for server_url in additional_servers:\n",
    "    response = requests.get(f\"{server_url}/api/v1/timelines/public?limit=40\", timeout=10)\n",
    "    response.raise_for_status()\n",
    "    additional_posts = response.json()\n",
    "    coll...\n",
    "    print(f\"Inserted {len(additional_posts)} posts from {server_url}\")\n",
    "\n",
    "# confirm total number of documents in collection after additions\n",
    "total_docs = ...\n",
    "print(f\"Total number of documents in collection after additions: {total_docs}\")"
   ],
   "id": "9ebd24093722f76d",
   "outputs": [],
   "execution_count": null
  },
  {
   "metadata": {},
   "cell_type": "code",
   "source": [
    "# Now download 40 more posts from the original server and insert them into the collection\n",
    "# Only insert posts that are not already present in the collection (check by 'id' field)\n",
    "\n",
    "response = requests.get(SOURCE_URL, timeout=10)\n",
    "response.raise_for_status()\n",
    "new_posts = response.json()\n",
    "\n",
    "# pull existing IDs from the collection\n",
    "existing_ids = ...\n",
    "\n",
    "# filter new posts to only those not already in the collection\n",
    "new_posts_to_insert = [post for post in new_posts if ...]\n",
    "\n",
    "if new_posts_to_insert:\n",
    "    coll...\n",
    "\n",
    "print(f\"Inserted {len(new_posts_to_insert)} new posts from the original server.\")"
   ],
   "id": "6983adcafb83304b",
   "outputs": [],
   "execution_count": null
  },
  {
   "metadata": {},
   "cell_type": "markdown",
   "source": "# 7a. Now re-run some of the earlier queries to see how the results have changed",
   "id": "249a7d51ad2619e8"
  },
  {
   "metadata": {},
   "cell_type": "markdown",
   "source": "_Do not proceed to the following until reading the assignment for Oct 23._",
   "id": "c84689af7b275e30"
  },
  {
   "metadata": {},
   "cell_type": "markdown",
   "source": "# 8. Using query operators",
   "id": "c2dfc1073df4c66"
  },
  {
   "metadata": {},
   "cell_type": "code",
   "source": [
    "# Choose two users and post the content of all their posts (use $or)\n",
    "user1 = df.iloc[0]['username']\n",
    "user2 = df.iloc[1]['username']\n",
    "\n",
    "posts_from_two_users = ...\n",
    "\n",
    "print(f\"Posts from users '{user1}' and '{user2}':\\n\")\n",
    "\n",
    "for post in posts_from_two_users:\n",
    "    print(... + '\\n')"
   ],
   "id": "d2b59bd2374bb3fb",
   "outputs": [],
   "execution_count": null
  },
  {
   "metadata": {},
   "cell_type": "code",
   "source": [
    "# Choose two users and post the content of all their posts (use $in)\n",
    "users_to_query = [user1, user2]\n",
    "\n",
    "posts_from_users_in = ...\n",
    "\n",
    "print(f\"Posts from users '{user1}' and '{user2}':\\n\")\n",
    "\n",
    "for post in posts_from_users_in:\n",
    "    print(... + '\\n')"
   ],
   "id": "6fcc946486590024",
   "outputs": [],
   "execution_count": null
  },
  {
   "metadata": {},
   "cell_type": "code",
   "source": [
    "# Pick a minimum follower count and return all posts from accounts with at least that many followers (use $gte)\n",
    "# Use BeautifulSoup to strip HTML tags and print just the plain text content\n",
    "\n",
    "min_followers = 5000\n",
    "\n",
    "posts_from_popular_accounts = ...\n",
    "\n",
    "print(f\"Posts from accounts with at least {min_followers} followers:\\n\")\n",
    "\n",
    "for post in posts_from_popular_accounts:\n",
    "    soup = ...\n",
    "    plain_text = ...\n",
    "    print(plain_text + '\\n')"
   ],
   "id": "8a21122741e029b",
   "outputs": [],
   "execution_count": null
  },
  {
   "metadata": {},
   "cell_type": "code",
   "source": [
    "# Pick a maximum follower count and return all posts from accounts with no more than that many followers (use $lte)\n",
    "# Use BeautifulSoup to strip HTML tags and print just the plain text content\n",
    "\n",
    "max_followers = 100\n",
    "\n",
    "posts_from_less_popular_accounts = ...\n",
    "\n",
    "print(f\"Posts from accounts with no more than {max_followers} followers:\\n\")\n",
    "\n",
    "for post in posts_from_less_popular_accounts:\n",
    "    soup = ...\n",
    "    plain_text = ...\n",
    "    print(plain_text + '\\n')"
   ],
   "id": "4987e4b8b9bf5c8e",
   "outputs": [],
   "execution_count": null
  },
  {
   "metadata": {},
   "cell_type": "code",
   "source": [
    "# Find all emojis used in user profiles (account.emojis — use $ne) and display them along with the username\n",
    "\n",
    "users_with_emojis = ...\n",
    "\n",
    "print(\"Usernames with emojis in their profiles:\\n\")\n",
    "\n",
    "for user in users_with_emojis:\n",
    "    username = ...\n",
    "    emojis = [... for emoji in ...]\n",
    "    print(f\"{username}: {emojis}\")\n"
   ],
   "id": "696c9df23e0859c5",
   "outputs": [],
   "execution_count": null
  },
  {
   "metadata": {},
   "cell_type": "code",
   "source": [
    "# Pick a keyword and return all posts that contain it (use $regex; include '$options': 'i' for a case-insensitive search)\n",
    "# Use BeautifulSoup to strip HTML tags and print just the plain text content\n",
    "\n",
    "keyword = \"mastodon\"\n",
    "\n",
    "posts_with_keyword = ...\n",
    "\n",
    "print(f\"Posts containing the keyword '{keyword}':\\n\")\n",
    "\n",
    "for post in posts_with_keyword:\n",
    "    soup = ...\n",
    "    plain_text = ...\n",
    "    print(plain_text + '\\n')"
   ],
   "id": "bb4850474dcb1f4a",
   "outputs": [],
   "execution_count": null
  },
  {
   "metadata": {},
   "cell_type": "markdown",
   "source": "## Why can't we use $text here?",
   "id": "517e2eae893d18b7"
  },
  {
   "metadata": {},
   "cell_type": "markdown",
   "source": "_Put your answer here._",
   "id": "34c6d93649fa6f5b"
  },
  {
   "metadata": {},
   "cell_type": "markdown",
   "source": "# 9. More Advanced Queries (see what you can do, remember these aren't graded, just give them a try!)",
   "id": "5bec71feaf54d0af"
  },
  {
   "metadata": {},
   "cell_type": "code",
   "source": [
    "# List the unique usernames of accounts with more than 1000 followers\n",
    "popular_users = ...\n",
    "\n",
    "print(f\"Usernames with more than 1000 followers: {popular_users}\")"
   ],
   "id": "3b8ec928f32bbef2",
   "outputs": [],
   "execution_count": null
  },
  {
   "metadata": {},
   "cell_type": "code",
   "source": [
    "# For those popular users, count how many posts each has in the collection and display in descending order as a dataframe\n",
    "\n",
    "popular_user_post_counts = []\n",
    "\n",
    "for username in popular_users:\n",
    "    post_count = ...\n",
    "    popular_user_post_counts.append([username, post_count])\n",
    "\n",
    "df_popular_users = pd.DataFrame(popular_user_post_counts, columns=['username', 'post_count'])\n",
    "df_popular_users = df_popular_users.sort_values(by='post_count', ascending=False).reset_index(drop=True)\n",
    "df_popular_users"
   ],
   "id": "19a1c06954129ab9",
   "outputs": [],
   "execution_count": null
  },
  {
   "metadata": {},
   "cell_type": "code",
   "source": [
    "# For those popular users, list how many followers each account has (use find_one() for now, as the follower count could change between posts — we'll do a more advanced method later)\n",
    "\n",
    "popular_user_followers = []\n",
    "\n",
    "for username in popular_users:\n",
    "    user_doc = ...\n",
    "    followers_count = ...\n",
    "    popular_user_followers.append([username, followers_count])\n",
    "\n",
    "df_popular_user_followers = pd.DataFrame(popular_user_followers, columns=['username', 'followers_count'])\n",
    "df_popular_user_followers = df_popular_user_followers.sort_values(by='followers_count', ascending=False).reset_index(drop=True)\n",
    "df_popular_user_followers"
   ],
   "id": "f549bd3acac6a9e2",
   "outputs": [],
   "execution_count": null
  },
  {
   "metadata": {},
   "cell_type": "code",
   "source": [
    "# Find all posts that contain hashtags (use $exists and $ne)\n",
    "# Print the post count and the hashtags used\n",
    "\n",
    "posts_with_hashtags = ...\n",
    "post_count = ...\n",
    "\n",
    "hashtags = []\n",
    "\n",
    "for post in posts_with_hashtags:\n",
    "    new_hashtags = [... for tag in ...]\n",
    "    hashtags.extend(new_hashtags)\n",
    "\n",
    "hashtags = list(set(hashtags))  # get unique hashtags\n",
    "\n",
    "print(f\"Number of posts with hashtags: {post_count}\")\n",
    "print(\"Hashtags used in those posts:\")\n",
    "print(hashtags)"
   ],
   "id": "1f07682e8c4cd962",
   "outputs": [],
   "execution_count": null
  },
  {
   "metadata": {},
   "cell_type": "markdown",
   "source": "## Be sure the notebook is complete and all cells have been run before submission! Then upload to Canvas.",
   "id": "15bb69139dfef646"
  },
  {
   "metadata": {},
   "cell_type": "code",
   "source": "",
   "id": "4778e6b9d72c1808",
   "outputs": [],
   "execution_count": null
  }
 ],
 "metadata": {
  "kernelspec": {
   "display_name": "Python 3",
   "language": "python",
   "name": "python3"
  },
  "language_info": {
   "codemirror_mode": {
    "name": "ipython",
    "version": 2
   },
   "file_extension": ".py",
   "mimetype": "text/x-python",
   "name": "python",
   "nbconvert_exporter": "python",
   "pygments_lexer": "ipython2",
   "version": "2.7.6"
  }
 },
 "nbformat": 4,
 "nbformat_minor": 5
}
