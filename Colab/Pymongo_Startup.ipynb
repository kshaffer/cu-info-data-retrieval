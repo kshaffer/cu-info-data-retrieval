{
 "cells": [
  {
   "metadata": {},
   "cell_type": "markdown",
   "source": "# Install pymongo (first time only)",
   "id": "7aed79699e0d0299"
  },
  {
   "metadata": {},
   "cell_type": "code",
   "source": "!pip install pymongo",
   "id": "6a1e81884f9404",
   "outputs": [],
   "execution_count": null
  },
  {
   "metadata": {},
   "cell_type": "markdown",
   "source": "Import the library and connect to MongoDB on your localhost",
   "id": "88834579dcc17020"
  },
  {
   "metadata": {},
   "cell_type": "code",
   "source": [
    "from pymongo import MongoClient\n",
    "from pprint import pprint"
   ],
   "id": "573e71917351ea3c",
   "outputs": [],
   "execution_count": null
  },
  {
   "metadata": {},
   "cell_type": "code",
   "source": [
    "client = MongoClient()\n",
    "client"
   ],
   "id": "9b3701d61d5f3d5f",
   "outputs": [],
   "execution_count": null
  },
  {
   "metadata": {},
   "cell_type": "markdown",
   "source": "# Examine the available databases",
   "id": "290f918aebdb1c65"
  },
  {
   "metadata": {},
   "cell_type": "code",
   "source": [
    "# show existing databases\n",
    "client.list_database_names()"
   ],
   "id": "b45dc7d6b787f96e",
   "outputs": [],
   "execution_count": null
  },
  {
   "metadata": {},
   "cell_type": "code",
   "source": [
    "db = client.video\n",
    "db = client['video']\n",
    "db"
   ],
   "id": "5684771ca4be2971",
   "outputs": [],
   "execution_count": null
  },
  {
   "metadata": {},
   "cell_type": "code",
   "source": [
    "# show collections in db\n",
    "db.list_collection_names()"
   ],
   "id": "91b6f19de216e9e5",
   "outputs": [],
   "execution_count": null
  },
  {
   "metadata": {},
   "cell_type": "code",
   "source": [
    "# show a sample of content using find_one()\n",
    "db.movies.find_one()"
   ],
   "id": "ad808639157c028",
   "outputs": [],
   "execution_count": null
  },
  {
   "metadata": {},
   "cell_type": "code",
   "source": [
    "# show a sample of content using find_one()\n",
    "db.movies.find()"
   ],
   "id": "9e3975e93ff8a56a",
   "outputs": [],
   "execution_count": null
  },
  {
   "metadata": {},
   "cell_type": "code",
   "source": [
    "# show a sample of content using find()\n",
    "cursor = db.movies.find()\n",
    "\n",
    "for doc in cursor:\n",
    "    print(doc)"
   ],
   "id": "f231996bef1f2cc3",
   "outputs": [],
   "execution_count": null
  },
  {
   "metadata": {},
   "cell_type": "code",
   "source": [
    "# show a sample of content using find() and limit()\n",
    "cursor = db.movies.find()\n",
    "\n",
    "for doc in cursor.limit(3):\n",
    "    print(doc)"
   ],
   "id": "debe05d21de0ca59",
   "outputs": [],
   "execution_count": null
  },
  {
   "metadata": {},
   "cell_type": "markdown",
   "source": "# CRUD Ops",
   "id": "103631cf23565298"
  },
  {
   "metadata": {},
   "cell_type": "code",
   "source": [
    "# Make two new movies for Star Wars V and VI\n",
    "\n",
    "movie1 = {\n",
    "    \"title\": \"Star Wars V: The Empire Strikes Back\",\n",
    "    \"year\": 1980,\n",
    "    \"director\": \"Irvin Kershner\",\n",
    "}\n",
    "\n",
    "movie2 = {\n",
    "    \"title\": \"Star Wars VI: Return of the Jedi\",\n",
    "    \"year\": 1983,\n",
    "    \"director\": \"Richard Marquand\",\n",
    "}"
   ],
   "id": "f26f81517f36830d",
   "outputs": [],
   "execution_count": null
  },
  {
   "metadata": {},
   "cell_type": "code",
   "source": [
    "# Insert the two new movies into the collection\n",
    "db.movies.insert_one(movie1)\n",
    "db.movies.insert_one(movie2)"
   ],
   "id": "a46d2942f7234657",
   "outputs": [],
   "execution_count": null
  },
  {
   "metadata": {},
   "cell_type": "code",
   "source": [
    "# verify movies added\n",
    "cursor = db.movies.find()\n",
    "\n",
    "for doc in cursor:\n",
    "    pprint(doc)"
   ],
   "id": "73e7f0be6865565f",
   "outputs": [],
   "execution_count": null
  },
  {
   "metadata": {},
   "cell_type": "code",
   "source": [
    "# find movies directed by Irvin Kershner\n",
    "cursor = db.movies.find({\"director\": \"Irvin Kershner\"})\n",
    "for doc in cursor:\n",
    "    pprint(doc)"
   ],
   "id": "560201c98d876e51",
   "outputs": [],
   "execution_count": null
  },
  {
   "metadata": {},
   "cell_type": "code",
   "source": [
    "# find movies from the 1980s\n",
    "cursor = db.movies.find({\"year\": {\"$gte\": 1980, \"$lt\": 1990}})\n",
    "for doc in cursor:\n",
    "    pprint(doc)"
   ],
   "id": "4a14d5e2eeec30d1",
   "outputs": [],
   "execution_count": null
  },
  {
   "metadata": {},
   "cell_type": "code",
   "source": [
    "# remove movies from the 1980s\n",
    "db.movies.delete_many({\"year\": {\"$gte\": 1980, \"$lt\": 1990}})"
   ],
   "id": "583ba09ee27be676",
   "outputs": [],
   "execution_count": null
  },
  {
   "metadata": {},
   "cell_type": "code",
   "source": [
    "# verify movies removed\n",
    "cursor = db.movies.find()\n",
    "for doc in cursor:\n",
    "    pprint(doc)"
   ],
   "id": "653c501d6e5f9b83",
   "outputs": [],
   "execution_count": null
  },
  {
   "metadata": {},
   "cell_type": "markdown",
   "source": "# Create new database",
   "id": "37ba344c1c9008bd"
  },
  {
   "metadata": {},
   "cell_type": "code",
   "source": [
    "# create new database\n",
    "db2 = client.newdb\n",
    "# db2 = client['newdb']\n",
    "db2"
   ],
   "id": "18735d7efbf3e475",
   "outputs": [],
   "execution_count": null
  },
  {
   "metadata": {},
   "cell_type": "code",
   "source": [
    "# show all databases\n",
    "client.list_database_names()"
   ],
   "id": "539c2a1075ec6a4c",
   "outputs": [],
   "execution_count": null
  },
  {
   "metadata": {},
   "cell_type": "code",
   "source": [
    "# create new collection in newdb\n",
    "collection = db2.newcoll\n",
    "collection"
   ],
   "id": "aac6ed5b2cef5874",
   "outputs": [],
   "execution_count": null
  },
  {
   "metadata": {},
   "cell_type": "code",
   "source": [
    "# show all databases\n",
    "client.list_database_names()"
   ],
   "id": "c6246b6103ffc244",
   "outputs": [],
   "execution_count": null
  },
  {
   "metadata": {},
   "cell_type": "code",
   "source": [
    "# insert a document into newcoll\n",
    "doc = {\"name\": \"Alice\", \"age\": 30, \"city\": \"New York\"}\n",
    "collection.insert_one(doc)"
   ],
   "id": "323773f9f4e6e60f",
   "outputs": [],
   "execution_count": null
  },
  {
   "metadata": {},
   "cell_type": "code",
   "source": [
    "# show all databases\n",
    "client.list_database_names()"
   ],
   "id": "8062054945a299d",
   "outputs": [],
   "execution_count": null
  },
  {
   "metadata": {},
   "cell_type": "code",
   "source": [
    "# show collections in newdb\n",
    "db2.list_collection_names()"
   ],
   "id": "fd9c8550398f22a0",
   "outputs": [],
   "execution_count": null
  },
  {
   "metadata": {},
   "cell_type": "code",
   "source": [
    "# find document in newcoll\n",
    "collection.find_one()"
   ],
   "id": "e0f1edca790129c6",
   "outputs": [],
   "execution_count": null
  },
  {
   "metadata": {},
   "cell_type": "code",
   "source": [
    "# remove document from newcoll\n",
    "collection.delete_many({})"
   ],
   "id": "5f8735fd89ad8553",
   "outputs": [],
   "execution_count": null
  },
  {
   "metadata": {},
   "cell_type": "code",
   "source": [
    "# show all databases\n",
    "client.list_database_names()"
   ],
   "id": "20635840a4142d75",
   "outputs": [],
   "execution_count": null
  },
  {
   "metadata": {},
   "cell_type": "code",
   "source": [
    "# find document in newcoll\n",
    "collection.find_one()"
   ],
   "id": "d26e81f8e836e9bf",
   "outputs": [],
   "execution_count": null
  },
  {
   "metadata": {},
   "cell_type": "markdown",
   "source": "# 1. Create a database\n",
   "id": "9fbd194a56f681c2"
  },
  {
   "metadata": {},
   "cell_type": "code",
   "source": "",
   "id": "796727c439ae433",
   "outputs": [],
   "execution_count": null
  },
  {
   "metadata": {},
   "cell_type": "markdown",
   "source": "# 2. Create a collection",
   "id": "ba5120a580cb8a7"
  },
  {
   "metadata": {},
   "cell_type": "code",
   "source": "",
   "id": "f22575542bb6d9f0",
   "outputs": [],
   "execution_count": null
  },
  {
   "metadata": {},
   "cell_type": "markdown",
   "source": "# 3. Insert two documents",
   "id": "ac68c25291046ea2"
  },
  {
   "metadata": {},
   "cell_type": "code",
   "source": "",
   "id": "137357e5858a02b2",
   "outputs": [],
   "execution_count": null
  },
  {
   "metadata": {},
   "cell_type": "markdown",
   "source": "# 4. Show those documents using find() and pprint()",
   "id": "626d949020a78d58"
  },
  {
   "metadata": {},
   "cell_type": "code",
   "source": "",
   "id": "87db3a7d61029fab",
   "outputs": [],
   "execution_count": null
  },
  {
   "metadata": {},
   "cell_type": "markdown",
   "source": "# 5. Save this file WITH ALL OUTPUT SHOWING and submit to Canvas",
   "id": "68ea5d10324ef2d3"
  }
 ],
 "metadata": {
  "kernelspec": {
   "display_name": "Python 3",
   "language": "python",
   "name": "python3"
  },
  "language_info": {
   "codemirror_mode": {
    "name": "ipython",
    "version": 2
   },
   "file_extension": ".py",
   "mimetype": "text/x-python",
   "name": "python",
   "nbconvert_exporter": "python",
   "pygments_lexer": "ipython2",
   "version": "2.7.6"
  }
 },
 "nbformat": 4,
 "nbformat_minor": 5
}
