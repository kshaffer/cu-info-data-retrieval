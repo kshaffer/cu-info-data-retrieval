{
 "cells": [
  {
   "cell_type": "markdown",
   "id": "dd0365cd",
   "metadata": {},
   "source": [
    "# Notebook 1 — Getting Data Out\n",
    "\n",
    "_INFO 4614 • Unit 1: Relational Databases (MySQL)_"
   ]
  },
  {
   "cell_type": "markdown",
   "id": "ff59ccf2",
   "metadata": {},
   "source": [
    "**Goals.** Practice the essentials you'll need all term:\n",
    "\n",
    "- Connect from **Google Colab → AWS RDS (MySQL)** using the **Amazon global CA** (`global-bundle.pem`)\n",
    "- Run the **basic queries** we introduced on Aug 21 and you'll read about for Aug 26: `SELECT`, `WHERE`, `ORDER BY`, `LIMIT`, and simple `LIKE` pattern matching\n",
    "- Pull results back into **pandas** DataFrames\n",
    "\n",
    "**Data.** We'll use the class database: schema **`ramen`**, table **`ratings`**. This table mirrors `ramen_ratings_clean.csv`."
   ]
  },
  {
   "cell_type": "markdown",
   "id": "59115f97",
   "metadata": {},
   "source": [
    "**Submission checklist**\n",
    "\n",
    "- ✅ All cells run top–to–bottom without errors\n",
    "- ✅ Each **Exercise** cell has working code (no `...` left)\n",
    "- ✅ Outputs visible (first rows printed, DataFrames displayed)\n",
    "- ✅ File is renamed `Notebook1_LastFirst.ipynb` before you submit"
   ]
  },
  {
   "cell_type": "markdown",
   "id": "764df047",
   "metadata": {},
   "source": [
    "## 0) Setup"
   ]
  },
  {
   "cell_type": "markdown",
   "id": "3f05e3e5",
   "metadata": {},
   "source": [
    "We'll install the client libraries, set a couple variables, and (by default) **download** the Amazon RDS global certificate bundle that verifies the server.\n",
    "\n",
    "If you prefer to **upload** a PEM file you already have, there's an alternate cell below."
   ]
  },
  {
   "cell_type": "code",
   "execution_count": null,
   "id": "19e1d6cb",
   "metadata": {},
   "outputs": [],
   "source": [
    "# Install dependencies (lightweight)\n",
    "!pip -q install mysql-connector-python SQLAlchemy pandas\n",
    "\n",
    "# Show versions (sanity check)\n",
    "import sys, sqlalchemy, pandas\n",
    "print(\"Python:\", sys.version.split()[0])\n",
    "print(\"SQLAlchemy:\", sqlalchemy.__version__)\n",
    "print(\"pandas:\", pandas.__version__)"
   ]
  },
  {
   "cell_type": "code",
   "execution_count": null,
   "id": "75b1a5d2",
   "metadata": {},
   "outputs": [],
   "source": [
    "# Connection settings for the class database\n",
    "DB_HOST = \"\"\n",
    "DB_PORT = 3306\n",
    "DB_NAME = \"ramen\"\n",
    "\n",
    "# We'll save the Amazon RDS certificate bundle here\n",
    "CA_CERT_PATH = \"global-bundle.pem\""
   ]
  },
  {
   "cell_type": "code",
   "execution_count": null,
   "id": "cbd0a232",
   "metadata": {},
   "outputs": [],
   "source": [
    "# Option A (recommended): download the current Amazon RDS global certificate bundle\n",
    "# Source: AWS Trust Store (global bundle)\n",
    "!wget -q https://truststore.pki.rds.amazonaws.com/global/global-bundle.pem -O \"$CA_CERT_PATH\"\n",
    "\n",
    "import os\n",
    "assert os.path.exists(CA_CERT_PATH), \"PEM download failed — try Option B (upload)\"\n",
    "print(\"Saved:\", os.path.abspath(CA_CERT_PATH))"
   ]
  },
  {
   "cell_type": "code",
   "execution_count": null,
   "id": "5f260e2e",
   "metadata": {},
   "outputs": [],
   "source": [
    "# Option B (alternative): upload a PEM you already have\n",
    "from google.colab import files\n",
    "print(\"Choose your PEM (e.g., global-bundle.pem)\")\n",
    "uploaded = files.upload()  # pick your .pem; it will save to the current directory"
   ]
  },
  {
   "cell_type": "markdown",
   "id": "bb13b051",
   "metadata": {},
   "source": [
    "## 1) Enter credentials securely"
   ]
  },
  {
   "cell_type": "markdown",
   "id": "33a2fbbe",
   "metadata": {},
   "source": [
    "Enter the **read‑only** username and password you were given. These won't be stored in the notebook file."
   ]
  },
  {
   "cell_type": "code",
   "execution_count": null,
   "id": "ff119cbb",
   "metadata": {},
   "outputs": [],
   "source": [
    "from getpass import getpass\n",
    "\n",
    "DB_USER = input(\"MySQL username: \").strip()\n",
    "DB_PASS = getpass(\"MySQL password: \").strip()"
   ]
  },
  {
   "cell_type": "markdown",
   "id": "e781fdfa",
   "metadata": {},
   "source": [
    "## 2) Connect to MySQL (test)"
   ]
  },
  {
   "cell_type": "markdown",
   "id": "05a1f1e9",
   "metadata": {},
   "source": [
    "We'll use **SQLAlchemy** with the **mysql‑connector** driver and require TLS by pointing to the CA bundle."
   ]
  },
  {
   "cell_type": "code",
   "execution_count": null,
   "id": "443a0b54",
   "metadata": {},
   "outputs": [],
   "source": [
    "from sqlalchemy import create_engine, text\n",
    "\n",
    "engine = create_engine(\n",
    "    f\"mysql+mysqlconnector://{DB_USER}:{DB_PASS}@{DB_HOST}:{DB_PORT}/{DB_NAME}\",\n",
    "    connect_args={\"ssl_ca\": CA_CERT_PATH},\n",
    "    pool_pre_ping=True,\n",
    ")\n",
    "\n",
    "# Quick smoke tests\n",
    "with engine.connect() as conn:\n",
    "    # 1) minimal \"it works\" check\n",
    "    one = conn.execute(text(\"SELECT 1\")).scalar_one()\n",
    "    print(\"SELECT 1 →\", one)\n",
    "\n",
    "    # 2) confirm TLS is in use (should return a non-empty cipher name)\n",
    "    row = conn.execute(text(\"SHOW SESSION STATUS LIKE 'Ssl_cipher'\")).fetchone()\n",
    "    print(\"SSL cipher:\", row[1] if row else None)"
   ]
  },
  {
   "cell_type": "code",
   "execution_count": null,
   "id": "f5e93c10",
   "metadata": {},
   "outputs": [],
   "source": [
    "# 🔧 Exercise: Re-create the engine yourself.\n",
    "# Replace each `...` with the correct values, mirroring the working example above.\n",
    "from sqlalchemy import create_engine\n",
    "\n",
    "engine2 = create_engine(\n",
    "    f\"mysql+mysqlconnector://{...}:{...}@{...}:{...}/{...}\",\n",
    "    connect_args={\"ssl_ca\": ...},\n",
    "    pool_pre_ping=True,\n",
    ")\n",
    "\n",
    "# Sanity check (run and expect 1)\n",
    "from sqlalchemy import text\n",
    "with engine2.connect() as conn:\n",
    "    print(conn.execute(text(\"SELECT 1\")).scalar_one())"
   ]
  },
  {
   "cell_type": "markdown",
   "id": "625e8690",
   "metadata": {},
   "source": [
    "## 3) Explore the schema"
   ]
  },
  {
   "cell_type": "markdown",
   "id": "6ef58073",
   "metadata": {},
   "source": [
    "Let's verify the table exists and inspect its columns."
   ]
  },
  {
   "cell_type": "code",
   "execution_count": null,
   "id": "ada4cf59",
   "metadata": {},
   "outputs": [],
   "source": [
    "import pandas as pd\n",
    "from sqlalchemy import text\n",
    "\n",
    "with engine.connect() as conn:\n",
    "    print(\"Tables:\")\n",
    "    display(pd.read_sql_query(\"SHOW TABLES\", conn))\n",
    "\n",
    "    print(\"\\n`ratings` definition:\")\n",
    "    display(pd.read_sql_query(\"DESCRIBE ratings\", conn))"
   ]
  },
  {
   "cell_type": "markdown",
   "id": "7e96889b",
   "metadata": {},
   "source": [
    "## 4) Your first SELECTs"
   ]
  },
  {
   "cell_type": "markdown",
   "id": "7510156f",
   "metadata": {},
   "source": [
    "Use **SQL** and return results as **pandas** DataFrames. Keep it simple and clear."
   ]
  },
  {
   "cell_type": "markdown",
   "id": "b97fd0e1",
   "metadata": {},
   "source": [
    "### 4.1 First 5 rows\n",
    "Return the first 5 rows from `ramen.ratings`.\n",
    "\n",
    "**Starter:**\n",
    "\n",
    "```sql\n",
    "SELECT * FROM ratings\n",
    "LIMIT 5;\n",
    "```"
   ]
  },
  {
   "cell_type": "code",
   "execution_count": null,
   "id": "05f19bde",
   "metadata": {},
   "outputs": [],
   "source": [
    "# 🔧 Exercise 4.1\n",
    "import pandas as pd\n",
    "from sqlalchemy import text\n",
    "\n",
    "sql = \"\"\"\n",
    "SELECT ...\n",
    "...\n",
    "\"\"\"\n",
    "with engine.connect() as conn:\n",
    "    df_first5 = pd.read_sql_query(text(sql), conn)\n",
    "\n",
    "df_first5.head()"
   ]
  },
  {
   "cell_type": "markdown",
   "id": "db9e1203",
   "metadata": {},
   "source": [
    "### 4.2 Filter + sort\n",
    "Get the **top 10** `Cup`-style ramen from **Japan**, sorted by `rating` (highest first). Return only the columns:\n",
    "`review, brand, variety, style, country, rating`.\n",
    "\n",
    "Hints:\n",
    "- Use `WHERE` for filters\n",
    "- Use `ORDER BY rating DESC`\n",
    "- End with `LIMIT 10`"
   ]
  },
  {
   "cell_type": "code",
   "execution_count": null,
   "id": "83b8d609",
   "metadata": {},
   "outputs": [],
   "source": [
    "# 🔧 Exercise 4.2\n",
    "sql = \"\"\"\n",
    "SELECT ...\n",
    "FROM ratings\n",
    "WHERE ...\n",
    "ORDER BY ...\n",
    "LIMIT ...\n",
    "\"\"\"\n",
    "with engine.connect() as conn:\n",
    "    df_top_jp = pd.read_sql_query(text(sql), conn)\n",
    "\n",
    "df_top_jp.head(10)"
   ]
  },
  {
   "cell_type": "markdown",
   "id": "42b25d36",
   "metadata": {},
   "source": [
    "### 4.3 Pattern matching (`LIKE`)\n",
    "Find all rows whose `variety` contains the word **chicken** (case-insensitive is fine on MySQL).\n",
    "\n",
    "Return columns: `review, brand, variety, country, rating` sorted by `rating` (desc), then by `review` (asc) to break ties."
   ]
  },
  {
   "cell_type": "code",
   "execution_count": null,
   "id": "3f144513",
   "metadata": {},
   "outputs": [],
   "source": [
    "# 🔧 Exercise 4.3\n",
    "sql = \"\"\"\n",
    "SELECT ...\n",
    "FROM ratings\n",
    "WHERE ...\n",
    "ORDER BY ...\n",
    "\"\"\"\n",
    "with engine.connect() as conn:\n",
    "    df_chicken = pd.read_sql_query(text(sql), conn)\n",
    "\n",
    "df_chicken.head()"
   ]
  },
  {
   "cell_type": "markdown",
   "id": "d7fdf3e6",
   "metadata": {},
   "source": [
    "### 4.4 LIMIT with offset\n",
    "Get 5 rows **starting at the 11th row** of the full table when ordered by `review` ascending.\n",
    "\n",
    "Hint: `LIMIT <count> OFFSET <offset>`"
   ]
  },
  {
   "cell_type": "code",
   "execution_count": null,
   "id": "e77225c6",
   "metadata": {},
   "outputs": [],
   "source": [
    "# 🔧 Exercise 4.4\n",
    "sql = \"\"\"\n",
    "SELECT review, brand, variety, country, rating\n",
    "FROM ratings\n",
    "ORDER BY review ASC\n",
    "LIMIT ...\n",
    "\"\"\"\n",
    "with engine.connect() as conn:\n",
    "    df_page = pd.read_sql_query(text(sql), conn)\n",
    "\n",
    "df_page"
   ]
  },
  {
   "cell_type": "markdown",
   "id": "b17d2f7f",
   "metadata": {},
   "source": [
    "## 5) Light pandas practice"
   ]
  },
  {
   "cell_type": "markdown",
   "id": "30d1ad4d",
   "metadata": {},
   "source": [
    "We'll keep pandas minimal for now — just enough to inspect results."
   ]
  },
  {
   "cell_type": "code",
   "execution_count": null,
   "id": "723cc754",
   "metadata": {},
   "outputs": [],
   "source": [
    "# Summaries of your query from 4.2\n",
    "df_top_jp.shape, df_top_jp.dtypes"
   ]
  },
  {
   "cell_type": "code",
   "execution_count": null,
   "id": "feec7d71",
   "metadata": {},
   "outputs": [],
   "source": [
    "# Basic descriptive stats on ratings (from your 4.3 result)\n",
    "df_chicken[\"rating\"].describe()"
   ]
  },
  {
   "cell_type": "markdown",
   "id": "71d73229",
   "metadata": {},
   "source": [
    "## (Optional) Fallback: local CSV"
   ]
  },
  {
   "cell_type": "markdown",
   "id": "3d9e6987",
   "metadata": {},
   "source": [
    "If you're stuck off‑network, you can test your **pandas** parts locally by reading the CSV that matches the database table.\n",
    "This does **not** replace the requirement to connect to the database."
   ]
  },
  {
   "cell_type": "code",
   "execution_count": null,
   "id": "153d09cb",
   "metadata": {},
   "outputs": [],
   "source": [
    "import pandas as pd\n",
    "from google.colab import files\n",
    "\n",
    "print(\"Upload ramen_ratings_clean.csv (matches the DB table)\")\n",
    "uploaded = files.upload()\n",
    "csv_name = next(iter(uploaded.keys()))\n",
    "ramen_csv = pd.read_csv(csv_name)\n",
    "ramen_csv.head()"
   ]
  },
  {
   "cell_type": "markdown",
   "id": "2b47cdaf",
   "metadata": {},
   "source": [
    "## Troubleshooting (read me if you get errors)"
   ]
  },
  {
   "cell_type": "markdown",
   "id": "a40c411e",
   "metadata": {},
   "source": [
    "- **`Access denied for user ...` (1045)** → Username/password typo, or your user doesn't have permission. Ask the instructor to verify the **read‑only** account.\n",
    "- **Can't connect / timeout (2003)** → Network is blocking port **3306**, or the database firewall isn't allowing your IP. Try campus Wi‑Fi or VPN; ask the instructor to check security‑group rules.\n",
    "- **`ssl ca certificate` errors** → Re‑run the **download PEM** cell (or upload the correct PEM). Make sure `connect_args={\"ssl_ca\": \"global-bundle.pem\"}` points to the file you actually downloaded.\n",
    "- **`No module named ...`** → Re‑run the install cell at the top."
   ]
  },
  {
   "cell_type": "markdown",
   "id": "1d15ea53",
   "metadata": {},
   "source": [
    "## Submit"
   ]
  },
  {
   "cell_type": "markdown",
   "id": "47165136",
   "metadata": {},
   "source": [
    "- **Runtime → Restart and run all** to ensure a clean run\n",
    "- **File → Download .ipynb**, rename to `Notebook1_LastFirst.ipynb`, and submit per the syllabus"
   ]
  }
 ],
 "metadata": {},
 "nbformat": 4,
 "nbformat_minor": 5
}
