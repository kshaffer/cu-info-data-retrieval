{
 "cells": [
  {
   "cell_type": "markdown",
   "id": "c71c81de",
   "metadata": {},
   "source": [
    "# Notebook 3 — Joins, Subqueries & CTEs (Artists on MySQL)\n",
    "\n",
    "_INFO 4614 • Unit 1: Relational Databases_"
   ]
  },
  {
   "cell_type": "markdown",
   "id": "11cdb648",
   "metadata": {},
   "source": [
    "**This notebook assumes a MySQL database on the course RDS instance.** The schema mirrors the sample `artist_term.db` you saw in Python, now translated to SQL on MySQL.\n",
    "\n",
    "**Tables (expected):**\n",
    "- `artists(artist_id PK)`\n",
    "- `terms(term PK)`\n",
    "- `mbtags(mbtag PK)`\n",
    "- `artist_term(artist_id, term)` — maps artists ↔︎ terms\n",
    "- `artist_mbtag(artist_id, mbtag)` — maps artists ↔︎ MusicBrainz-style tags\n",
    "\n",
    "**What you'll practice (last guided notebook before the midterm):**\n",
    "- Core joins: **INNER** and **LEFT** (multi‑table queries)\n",
    "- Translating **research questions → SQL** (reduced scaffolding)\n",
    "- **Subqueries** (`IN`, `EXISTS`) and **CTEs** (`WITH`) for clarity\n",
    "- Set ops: `UNION` vs `UNION ALL`"
   ]
  },
  {
   "cell_type": "markdown",
   "id": "e29894c1",
   "metadata": {},
   "source": [
    "**Submission checklist**\n",
    "\n",
    "- ✅ All cells run top–to–bottom without errors\n",
    "- ✅ You completed both the **scaffolded** and **independent** join tasks\n",
    "- ✅ You wrote at least **two subqueries** (one `IN`/`EXISTS`) and **one CTE**\n",
    "- ✅ You added brief interpretations where prompted\n",
    "- ✅ File is renamed `Notebook3_LastFirst.ipynb` before you submit"
   ]
  },
  {
   "cell_type": "markdown",
   "id": "71b77388",
   "metadata": {},
   "source": [
    "## 0) Setup & connection (MySQL on RDS)"
   ]
  },
  {
   "cell_type": "markdown",
   "id": "76800c1b",
   "metadata": {},
   "source": [
    "We’ll reuse the connection pattern from **Notebook 1** (TLS required). If the database name differs from the default below, **update `DB_NAME`**.\n",
    "\n",
    "**Quoting identifiers.** If a column has spaces/punctuation, use backticks in MySQL (e.g., ``SELECT `weird name` FROM t``)."
   ]
  },
  {
   "cell_type": "code",
   "execution_count": null,
   "id": "6fb2656c",
   "metadata": {},
   "outputs": [],
   "source": [
    "# Minimal dependencies\n",
    "!pip -q install mysql-connector-python SQLAlchemy pandas matplotlib\n",
    "\n",
    "import sys, sqlalchemy, pandas\n",
    "print(\"Python:\", sys.version.split()[0])\n",
    "print(\"SQLAlchemy:\", sqlalchemy.__version__)\n",
    "print(\"pandas:\", pandas.__version__)"
   ]
  },
  {
   "cell_type": "code",
   "execution_count": null,
   "id": "2f5d5371",
   "metadata": {},
   "outputs": [],
   "source": [
    "# --- RDS Connection Settings (update DB_NAME if your instructor chose a different name) ---\n",
    "DB_HOST = \"info4614.c7kemoi0y6yq.us-east-2.rds.amazonaws.com\"\n",
    "DB_PORT = 3306\n",
    "DB_NAME = \"artists\"   # ← change here if the course DB name differs\n",
    "CA_CERT_PATH = \"global-bundle.pem\""
   ]
  },
  {
   "cell_type": "code",
   "execution_count": null,
   "id": "26db95f3",
   "metadata": {},
   "outputs": [],
   "source": [
    "# Download the Amazon RDS global CA bundle (TLS)\n",
    "!wget -q https://truststore.pki.rds.amazonaws.com/global/global-bundle.pem -O \"$CA_CERT_PATH\"\n",
    "\n",
    "import os\n",
    "assert os.path.exists(CA_CERT_PATH), \"PEM download failed — try again or upload manually\"\n",
    "print(\"Saved:\", os.path.abspath(CA_CERT_PATH))"
   ]
  },
  {
   "cell_type": "code",
   "execution_count": null,
   "id": "5c05291c",
   "metadata": {},
   "outputs": [],
   "source": [
    "# Alternative: upload a PEM you already have\n",
    "try:\n",
    "    from google.colab import files\n",
    "    print(\"Upload global-bundle.pem if needed\")\n",
    "    uploaded = files.upload()\n",
    "except Exception as e:\n",
    "    print(\"Upload not available here:\", e)"
   ]
  },
  {
   "cell_type": "markdown",
   "id": "5d5780ae",
   "metadata": {},
   "source": [
    "### Enter your read‑only credentials"
   ]
  },
  {
   "cell_type": "code",
   "execution_count": null,
   "id": "3db80159",
   "metadata": {},
   "outputs": [],
   "source": [
    "from getpass import getpass\n",
    "DB_USER = input(\"MySQL username: \").strip()\n",
    "DB_PASS = getpass(\"MySQL password: \").strip()"
   ]
  },
  {
   "cell_type": "markdown",
   "id": "45110758",
   "metadata": {},
   "source": [
    "### Create SQLAlchemy engine (MySQL) and sanity check"
   ]
  },
  {
   "cell_type": "code",
   "execution_count": null,
   "id": "191880c3",
   "metadata": {},
   "outputs": [],
   "source": [
    "from sqlalchemy import create_engine, text\n",
    "import pandas as pd\n",
    "\n",
    "engine = create_engine(\n",
    "    f\"mysql+mysqlconnector://{DB_USER}:{DB_PASS}@{DB_HOST}:{DB_PORT}/{DB_NAME}\",\n",
    "    connect_args={\"ssl_ca\": CA_CERT_PATH},\n",
    "    pool_pre_ping=True,\n",
    ")\n",
    "\n",
    "with engine.connect() as conn:\n",
    "    print(\"SELECT 1 →\", conn.execute(text(\"SELECT 1\")).scalar_one())\n",
    "    cipher = conn.execute(text(\"SHOW SESSION STATUS LIKE 'Ssl_cipher'\")).fetchone()\n",
    "    print(\"SSL cipher:\", cipher[1] if cipher else None)"
   ]
  },
  {
   "cell_type": "markdown",
   "id": "e20127d5",
   "metadata": {},
   "source": [
    "## 1) Quick schema peek"
   ]
  },
  {
   "cell_type": "code",
   "execution_count": null,
   "id": "53b70e6d",
   "metadata": {},
   "outputs": [],
   "source": [
    "import pandas as pd\n",
    "from sqlalchemy import text\n",
    "\n",
    "with engine.connect() as conn:\n",
    "    print(\"Tables:\")\n",
    "    display(pd.read_sql_query(text(\"SHOW TABLES\"), conn))\n",
    "\n",
    "    for t in (\"artists\",\"terms\",\"mbtags\",\"artist_term\",\"artist_mbtag\"):\n",
    "        try:\n",
    "            print(f\"\\nDESCRIBE {t}:\")\n",
    "            display(pd.read_sql_query(text(f\"DESCRIBE {t}\"), conn))\n",
    "        except Exception as e:\n",
    "            pass"
   ]
  },
  {
   "cell_type": "markdown",
   "id": "566373c9",
   "metadata": {},
   "source": [
    "## From research question → SQL query (quick recipe)"
   ]
  },
  {
   "cell_type": "markdown",
   "id": "f50bc455",
   "metadata": {},
   "source": [
    "1) **What rows?** → `FROM ... WHERE ...`  \n",
    "2) **Unit of analysis?** → choose grouping keys or join keys  \n",
    "3) **Which tables?** → link tables (`artist_term`, `artist_mbtag`) and dimensions (`terms`, `mbtags`, `artists`)  \n",
    "4) **How to connect them?** → `JOIN ... ON ...`  \n",
    "5) **What to measure?** → `COUNT(*)`, `COUNT(DISTINCT ...)`, `MIN/MAX/AVG`  \n",
    "6) **Which groups qualify?** → `HAVING` (after aggregation)  \n",
    "7) **Present it well.** → `ORDER BY`, `LIMIT`, clean column aliases"
   ]
  },
  {
   "cell_type": "markdown",
   "id": "09676373",
   "metadata": {},
   "source": [
    "## 2) Sanity checks"
   ]
  },
  {
   "cell_type": "markdown",
   "id": "0aeca8be",
   "metadata": {},
   "source": [
    "Let’s count rows in each table to understand scale."
   ]
  },
  {
   "cell_type": "code",
   "execution_count": null,
   "id": "7d426db6",
   "metadata": {},
   "outputs": [],
   "source": [
    "import pandas as pd\n",
    "from sqlalchemy import text\n",
    "\n",
    "with engine.connect() as conn:\n",
    "    for q in [\n",
    "        \"SELECT COUNT(*) AS n FROM artists\",\n",
    "        \"SELECT COUNT(*) AS n FROM terms\",\n",
    "        \"SELECT COUNT(*) AS n FROM mbtags\",\n",
    "        \"SELECT COUNT(*) AS n FROM artist_term\",\n",
    "        \"SELECT COUNT(*) AS n FROM artist_mbtag\",\n",
    "    ]:\n",
    "        print(q)\n",
    "        display(pd.read_sql_query(text(q), conn))"
   ]
  },
  {
   "cell_type": "markdown",
   "id": "1b63e466",
   "metadata": {},
   "source": [
    "## 3) Joins via research questions"
   ]
  },
  {
   "cell_type": "markdown",
   "id": "c1a9ba11",
   "metadata": {},
   "source": [
    "Two **scaffolded** join questions to warm up, then two **independent** ones."
   ]
  },
  {
   "cell_type": "markdown",
   "id": "fb6aa9cd",
   "metadata": {},
   "source": [
    "### RQ 1 — Which **terms** are attached to the most **artists**?\n",
    "Return the **top 15 terms** by the number of distinct artists using them.\n",
    "\n",
    "**Translate → SQL (hint).**\n",
    "- Tables: `artist_term` (links) → `terms` (labels)\n",
    "- Join key: `artist_term.term = terms.term`\n",
    "- Unit of analysis: each `terms.term`\n",
    "- Measure: `COUNT(DISTINCT artist_term.artist_id) AS n`\n",
    "- Present: `ORDER BY n DESC LIMIT 15`"
   ]
  },
  {
   "cell_type": "code",
   "execution_count": null,
   "id": "230b61a6",
   "metadata": {},
   "outputs": [],
   "source": [
    "# 🔧 Scaffolded JOIN — fill the blanks\n",
    "import pandas as pd\n",
    "from sqlalchemy import text\n",
    "\n",
    "sql = \"\"\"\n",
    "SELECT\n",
    "  t.term,\n",
    "  COUNT(DISTINCT at.artist_id) AS n\n",
    "FROM artist_term AS at\n",
    "JOIN terms AS t\n",
    "  ON at.term = t.term\n",
    "GROUP BY ...\n",
    "ORDER BY ...\n",
    "LIMIT ...\n",
    "\"\"\"\n",
    "with engine.connect() as conn:\n",
    "    df_top_terms = pd.read_sql_query(text(sql), conn)\n",
    "\n",
    "df_top_terms.head(15)"
   ]
  },
  {
   "cell_type": "markdown",
   "id": "bb2a2b30",
   "metadata": {},
   "source": [
    "### RQ 2 — Which **artists** have the most **MusicBrainz tags**?\n",
    "Return the top 15 artists by **count of distinct `mbtag`**.\n",
    "\n",
    "**Translate → SQL (hint).**\n",
    "- Tables: `artist_mbtag` (links) → `artists` (IDs/names if present)\n",
    "- Join key: `artist_mbtag.artist_id = artists.artist_id`\n",
    "- Unit of analysis: each `artists.artist_id`\n",
    "- Measure: `COUNT(DISTINCT artist_mbtag.mbtag) AS n`\n",
    "- Present: `ORDER BY n DESC LIMIT 15`"
   ]
  },
  {
   "cell_type": "code",
   "execution_count": null,
   "id": "d2591fb9",
   "metadata": {},
   "outputs": [],
   "source": [
    "# 🔧 Scaffolded JOIN — fill the blanks\n",
    "sql = \"\"\"\n",
    "SELECT\n",
    "  a.artist_id,\n",
    "  COUNT(DISTINCT am.mbtag) AS n\n",
    "FROM artist_mbtag AS am\n",
    "JOIN artists AS a\n",
    "  ON ...\n",
    "GROUP BY ...\n",
    "ORDER BY ...\n",
    "LIMIT ...\n",
    "\"\"\"\n",
    "with engine.connect() as conn:\n",
    "    df_top_taggy = pd.read_sql_query(text(sql), conn)\n",
    "\n",
    "df_top_taggy.head(15)"
   ]
  },
  {
   "cell_type": "markdown",
   "id": "5a82505f",
   "metadata": {},
   "source": [
    "### RQ 3 (independent) — What are the **top 10 mbtags** overall?\n",
    "Return two columns: `mbtag`, `n` (number of distinct artists using that tag), sorted by `n` desc, limited to 10.\n",
    "\n",
    "> Hints (only if needed): group by `mbtag`; you may only need the link table + `mbtags` for labels."
   ]
  },
  {
   "cell_type": "code",
   "execution_count": null,
   "id": "9b246264",
   "metadata": {},
   "outputs": [],
   "source": [
    "# 🔎 Your turn — write the whole SQL\n",
    "sql = \"\"\"\n",
    "-- write your query here\n",
    "\"\"\"\n",
    "with engine.connect() as conn:\n",
    "    df_top_mbtags = pd.read_sql_query(sql, conn)\n",
    "\n",
    "df_top_mbtags"
   ]
  },
  {
   "cell_type": "markdown",
   "id": "54cc78b4",
   "metadata": {},
   "source": [
    "### RQ 4 (independent) — Among artists tagged with the **term 'rock'**, which **mbtags** are most common?\n",
    "Return `mbtag`, `n` (distinct artists) for the **top 10** mbtags among artists that have the **term 'rock'` (case-insensitive is fine).\n",
    "\n",
    "> Hint (if needed): join `artist_term` ↔ `artist_mbtag` via `artist_id`. Filter rows first, then aggregate."
   ]
  },
  {
   "cell_type": "code",
   "execution_count": null,
   "id": "75ad2ca5",
   "metadata": {},
   "outputs": [],
   "source": [
    "# 🔎 Your turn — write the whole SQL\n",
    "sql = \"\"\"\n",
    "-- write your query here\n",
    "\"\"\"\n",
    "with engine.connect() as conn:\n",
    "    df_rock_mbtags = pd.read_sql_query(sql, conn)\n",
    "\n",
    "df_rock_mbtags.head(10)"
   ]
  },
  {
   "cell_type": "markdown",
   "id": "a3b1af30",
   "metadata": {},
   "source": [
    "## 4) Subqueries (IN / EXISTS) and CTEs"
   ]
  },
  {
   "cell_type": "markdown",
   "id": "bcf46cc7",
   "metadata": {},
   "source": [
    "We’ll express the same question two ways: once as a **subquery** and once as a **CTE**. MySQL 8+ supports `WITH` (CTEs)."
   ]
  },
  {
   "cell_type": "markdown",
   "id": "db232b63",
   "metadata": {},
   "source": [
    "### RQ 5 — Which artists have **both** the term `'rock'` **and** the mbtag `'seen live'`?\n",
    "Return the first 20 `artist_id` values that satisfy both conditions, sorted ascending.\n",
    "\n",
    "- **Option A (subqueries):** use `IN` or `EXISTS` twice.\n",
    "- **Option B (CTE):** build two CTEs (`rock_artists`, `seenlive_artists`) then `INNER JOIN` them."
   ]
  },
  {
   "cell_type": "code",
   "execution_count": null,
   "id": "4b1b6e84",
   "metadata": {},
   "outputs": [],
   "source": [
    "# ▶️ Option A — Subqueries\n",
    "from sqlalchemy import text\n",
    "sql = \"\"\"\n",
    "SELECT a.artist_id\n",
    "FROM artists AS a\n",
    "WHERE a.artist_id IN (\n",
    "  SELECT at.artist_id\n",
    "  FROM artist_term AS at\n",
    "  WHERE LOWER(at.term) = 'rock'\n",
    ")\n",
    "AND a.artist_id IN (\n",
    "  SELECT am.artist_id\n",
    "  FROM artist_mbtag AS am\n",
    "  WHERE LOWER(am.mbtag) = 'seen live'\n",
    ")\n",
    "ORDER BY a.artist_id\n",
    "LIMIT 20;\n",
    "\"\"\"\n",
    "with engine.connect() as conn:\n",
    "    df_both_subq = pd.read_sql_query(text(sql), conn)\n",
    "\n",
    "df_both_subq"
   ]
  },
  {
   "cell_type": "code",
   "execution_count": null,
   "id": "fb4c123b",
   "metadata": {},
   "outputs": [],
   "source": [
    "# ▶️ Option B — CTEs\n",
    "from sqlalchemy import text\n",
    "sql = \"\"\"\n",
    "WITH rock_artists AS (\n",
    "  SELECT DISTINCT artist_id\n",
    "  FROM artist_term\n",
    "  WHERE LOWER(term) = 'rock'\n",
    "),\n",
    "seenlive_artists AS (\n",
    "  SELECT DISTINCT artist_id\n",
    "  FROM artist_mbtag\n",
    "  WHERE LOWER(mbtag) = 'seen live'\n",
    ")\n",
    "SELECT ra.artist_id\n",
    "FROM rock_artists AS ra\n",
    "JOIN seenlive_artists AS sa\n",
    "  ON ra.artist_id = sa.artist_id\n",
    "ORDER BY ra.artist_id\n",
    "LIMIT 20;\n",
    "\"\"\"\n",
    "with engine.connect() as conn:\n",
    "    df_both_cte = pd.read_sql_query(text(sql), conn)\n",
    "\n",
    "df_both_cte"
   ]
  },
  {
   "cell_type": "markdown",
   "id": "44784923",
   "metadata": {},
   "source": [
    "### RQ 6 — Which **terms** are associated with at least **100** artists?\n",
    "Return `term`, `n` ordered by `n` desc.\n",
    "\n",
    "- **Option A (subquery):** group in a subquery then filter outer query\n",
    "- **Option B (CTE):** name the grouped result and filter in the final select"
   ]
  },
  {
   "cell_type": "code",
   "execution_count": null,
   "id": "cd095933",
   "metadata": {},
   "outputs": [],
   "source": [
    "# ▶️ Option A — Subquery\n",
    "from sqlalchemy import text\n",
    "sql = \"\"\"\n",
    "SELECT term, n\n",
    "FROM (\n",
    "  SELECT at.term AS term, COUNT(DISTINCT at.artist_id) AS n\n",
    "  FROM artist_term AS at\n",
    "  GROUP BY at.term\n",
    ") AS grouped\n",
    "WHERE grouped.n >= 100\n",
    "ORDER BY grouped.n DESC;\n",
    "\"\"\"\n",
    "with engine.connect() as conn:\n",
    "    df_terms_100_subq = pd.read_sql_query(text(sql), conn)\n",
    "\n",
    "df_terms_100_subq.head(10)"
   ]
  },
  {
   "cell_type": "code",
   "execution_count": null,
   "id": "48f4c3e8",
   "metadata": {},
   "outputs": [],
   "source": [
    "# ▶️ Option B — CTE\n",
    "from sqlalchemy import text\n",
    "sql = \"\"\"\n",
    "WITH term_counts AS (\n",
    "  SELECT at.term AS term, COUNT(DISTINCT at.artist_id) AS n\n",
    "  FROM artist_term AS at\n",
    "  GROUP BY at.term\n",
    ")\n",
    "SELECT term, n\n",
    "FROM term_counts\n",
    "WHERE n >= 100\n",
    "ORDER BY n DESC;\n",
    "\"\"\"\n",
    "with engine.connect() as conn:\n",
    "    df_terms_100_cte = pd.read_sql_query(text(sql), conn)\n",
    "\n",
    "df_terms_100_cte.head(10)"
   ]
  },
  {
   "cell_type": "markdown",
   "id": "c8af3286",
   "metadata": {},
   "source": [
    "### RQ 7 (independent) — Who shows up if we combine **rock-term artists** and **metal-mbtag artists**?\n",
    "Return distinct `artist_id` for the union of:\n",
    "- artists with term `'rock'` (from `artist_term`)\n",
    "- artists with mbtag `'metal'` (from `artist_mbtag`)\n",
    "\n",
    "Compare `UNION` vs `UNION ALL` (how many rows vs distinct rows?). Limit to 20 IDs, ascending."
   ]
  },
  {
   "cell_type": "code",
   "execution_count": null,
   "id": "ee152dab",
   "metadata": {},
   "outputs": [],
   "source": [
    "# 🔎 Your turn — UNION vs UNION ALL\n",
    "sql = \"\"\"\n",
    "-- write your UNION query here\n",
    "\"\"\"\n",
    "with engine.connect() as conn:\n",
    "    df_union = pd.read_sql_query(sql, conn)\n",
    "\n",
    "df_union.head(20)"
   ]
  },
  {
   "cell_type": "markdown",
   "id": "0a14cd36",
   "metadata": {},
   "source": [
    "## 5) Quick pandas tally (optional)"
   ]
  },
  {
   "cell_type": "markdown",
   "id": "23aff0b7",
   "metadata": {},
   "source": [
    "Make a small bar chart of **RQ 1** (top terms) or **RQ 3** (top mbtags)."
   ]
  },
  {
   "cell_type": "code",
   "execution_count": null,
   "id": "244f91a9",
   "metadata": {},
   "outputs": [],
   "source": [
    "import matplotlib.pyplot as plt\n",
    "\n",
    "try:\n",
    "    to_plot = df_top_terms.copy().head(10) if 'df_top_terms' in globals() else df_top_mbtags.copy().head(10)\n",
    "    to_plot.plot(kind=\"bar\", x=to_plot.columns[0], y=to_plot.columns[1], legend=False, title=\"Top categories by # of artists\")\n",
    "    plt.xlabel(to_plot.columns[0]); plt.ylabel(\"# artists\")\n",
    "    plt.show()\n",
    "except Exception as e:\n",
    "    print(\"Nothing to plot yet — complete RQ 1 or RQ 3 first.\")"
   ]
  },
  {
   "cell_type": "markdown",
   "id": "add78590",
   "metadata": {},
   "source": [
    "## 6) Brief interpretations"
   ]
  },
  {
   "cell_type": "markdown",
   "id": "f8b12369",
   "metadata": {},
   "source": [
    "Write **1–2 sentences** for each (plain English):\n",
    "\n",
    "- **RQ 1 or RQ 3:** What stands out in the top categories? Any surprises or limitations (e.g., naming inconsistencies, case sensitivity)?\n",
    "- **RQ 7:** Did `UNION` vs `UNION ALL` change your counts? Why?"
   ]
  },
  {
   "cell_type": "markdown",
   "id": "7fb55bf4",
   "metadata": {},
   "source": [
    "## Troubleshooting"
   ]
  },
  {
   "cell_type": "markdown",
   "id": "742c9c58",
   "metadata": {},
   "source": [
    "- **`Access denied ...` (1045)** → Check your read‑only username/password; ask the instructor if needed.\n",
    "- **Timeout / can’t connect (2003)** → Network or RDS security group issue. Try campus Wi‑Fi or VPN; ask the instructor to verify SG rules.\n",
    "- **`ssl ca certificate` errors** → Re‑download or upload the correct `global-bundle.pem` and ensure `connect_args={\"ssl_ca\": \"global-bundle.pem\"}`.\n",
    "- **`Table doesn't exist`** → Confirm `DB_NAME` and that the schema has `artists`, `terms`, `mbtags`, `artist_term`, `artist_mbtag`."
   ]
  },
  {
   "cell_type": "markdown",
   "id": "1bfbf2fb",
   "metadata": {},
   "source": [
    "## Submit"
   ]
  },
  {
   "cell_type": "markdown",
   "id": "83fac237",
   "metadata": {},
   "source": [
    "- **Runtime → Restart and run all** to confirm a clean run\n",
    "- **File → Download .ipynb**, rename to `Notebook3_LastFirst.ipynb`, and submit per syllabus"
   ]
  }
 ],
 "metadata": {},
 "nbformat": 4,
 "nbformat_minor": 5
}
