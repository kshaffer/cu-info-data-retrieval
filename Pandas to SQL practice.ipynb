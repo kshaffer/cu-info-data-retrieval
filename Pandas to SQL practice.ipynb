{
 "cells": [
  {
   "metadata": {},
   "cell_type": "code",
   "source": [
    "from getpass import getpass\n",
    "from sqlalchemy import create_engine, text\n",
    "from sqlalchemy.orm import sessionmaker\n",
    "import pandas as pd"
   ],
   "id": "4c7329b0c8511e50",
   "outputs": [],
   "execution_count": null
  },
  {
   "cell_type": "code",
   "id": "initial_id",
   "metadata": {
    "collapsed": true
   },
   "source": [
    "DB_HOST = \"localhost\"\n",
    "DB_PORT = 3306\n",
    "DB_NAME = \"ramen\""
   ],
   "outputs": [],
   "execution_count": null
  },
  {
   "metadata": {},
   "cell_type": "code",
   "source": [
    "DB_USER = 'root'\n",
    "DB_PASS = getpass(\"MySQL password: \").strip()"
   ],
   "id": "cef546383956e7a",
   "outputs": [],
   "execution_count": null
  },
  {
   "metadata": {},
   "cell_type": "code",
   "source": [
    "engine = create_engine(\n",
    "    f\"mysql+mysqlconnector://{DB_USER}:{DB_PASS}@{DB_HOST}:{DB_PORT}/{DB_NAME}\",\n",
    "    pool_pre_ping=True,\n",
    ")\n",
    "\n",
    "with engine.connect() as conn:\n",
    "    print(\"SELECT 1 →\", conn.execute(text(\"SELECT 1\")).scalar_one())"
   ],
   "id": "435423a3c4874cf2",
   "outputs": [],
   "execution_count": null
  },
  {
   "metadata": {},
   "cell_type": "code",
   "source": [
    "ramen = pd.read_csv('ratings.csv')\n",
    "ramen"
   ],
   "id": "f3e13fb20edc1acf",
   "outputs": [],
   "execution_count": null
  },
  {
   "metadata": {},
   "cell_type": "code",
   "source": [
    "with engine.connect() as conn:\n",
    "    pd.read_sql_query(text(\"create database if not exists ramen\"), conn)"
   ],
   "id": "4ae37bd5a551935c",
   "outputs": [],
   "execution_count": null
  },
  {
   "metadata": {},
   "cell_type": "code",
   "source": [
    "Session = sessionmaker(bind=engine)\n",
    "session = Session()\n",
    "\n",
    "result = session.execute(text(\"create database if not exists ramen\"),\n",
    "                         {\"value\": 1})\n",
    "\n",
    "with engine.connect() as conn:\n",
    "    result = conn.execute(text(\"SHOW DATABASES LIKE 'ramen'\"))\n",
    "    print(result.all())"
   ],
   "id": "33370781580372b2",
   "outputs": [],
   "execution_count": null
  },
  {
   "metadata": {},
   "cell_type": "code",
   "source": "ramen.to_sql(name='ramen', con=engine, if_exists='replace')",
   "id": "b0c489c3408af2d9",
   "outputs": [],
   "execution_count": null
  },
  {
   "metadata": {},
   "cell_type": "code",
   "source": [
    "with engine.connect() as conn:\n",
    "    display(pd.read_sql_query(text(\"select * from ramen\"), conn))"
   ],
   "id": "3c039aa9e19965f7",
   "outputs": [],
   "execution_count": null
  },
  {
   "metadata": {},
   "cell_type": "code",
   "outputs": [],
   "execution_count": null,
   "source": "",
   "id": "62ba9a682ee0ea31"
  },
  {
   "metadata": {},
   "cell_type": "code",
   "outputs": [],
   "execution_count": null,
   "source": "",
   "id": "495ca684da6f63cd"
  },
  {
   "metadata": {},
   "cell_type": "code",
   "outputs": [],
   "execution_count": null,
   "source": "",
   "id": "1425db0a282bde60"
  },
  {
   "metadata": {},
   "cell_type": "code",
   "outputs": [],
   "execution_count": null,
   "source": "",
   "id": "d01bca182a680ffd"
  },
  {
   "metadata": {},
   "cell_type": "code",
   "outputs": [],
   "execution_count": null,
   "source": "",
   "id": "f0ac7aeb07b95c99"
  }
 ],
 "metadata": {
  "kernelspec": {
   "display_name": "Python 3",
   "language": "python",
   "name": "python3"
  },
  "language_info": {
   "codemirror_mode": {
    "name": "ipython",
    "version": 2
   },
   "file_extension": ".py",
   "mimetype": "text/x-python",
   "name": "python",
   "nbconvert_exporter": "python",
   "pygments_lexer": "ipython2",
   "version": "2.7.6"
  }
 },
 "nbformat": 4,
 "nbformat_minor": 5
}
